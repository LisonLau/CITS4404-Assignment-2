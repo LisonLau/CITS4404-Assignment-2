{
 "cells": [
  {
   "cell_type": "markdown",
   "id": "6ec773ff-49dc-4ecf-b9d8-2fb1e3063a98",
   "metadata": {},
   "source": [
    "# CITS4401 Trading Bot"
   ]
  },
  {
   "cell_type": "markdown",
   "id": "4fc5c981-e654-4ce6-85bc-a7c3400e23a2",
   "metadata": {
    "jp-MarkdownHeadingCollapsed": true,
    "tags": []
   },
   "source": [
    "## Install Packages ccxt, ta if import fails"
   ]
  },
  {
   "cell_type": "code",
   "execution_count": 1,
   "id": "aab2e12e-63bf-4011-af8e-0edc128074c1",
   "metadata": {
    "tags": []
   },
   "outputs": [
    {
     "name": "stdout",
     "output_type": "stream",
     "text": [
      "Note: you may need to restart the kernel to use updated packages.\n",
      "Note: you may need to restart the kernel to use updated packages.\n"
     ]
    }
   ],
   "source": [
    "%pip install -q ccxt\n",
    "%pip install -q ta"
   ]
  },
  {
   "cell_type": "markdown",
   "id": "76eef727-dd9b-4f53-b0ae-fdd19c4cc188",
   "metadata": {
    "tags": []
   },
   "source": [
    "## Imports"
   ]
  },
  {
   "cell_type": "code",
   "execution_count": 1,
   "id": "a8d7dab6-60cf-41ca-a023-2bb8c2a3b9e2",
   "metadata": {},
   "outputs": [],
   "source": [
    "import pandas as pd\n",
    "import ccxt\n",
    "import ta\n",
    "import random"
   ]
  },
  {
   "cell_type": "markdown",
   "id": "288546d7-5bf2-4191-925c-cc523c190696",
   "metadata": {},
   "source": [
    "# Trading Bot"
   ]
  },
  {
   "cell_type": "code",
   "execution_count": 20,
   "id": "9272aaf4-23f8-402e-a573-2b08344dbb66",
   "metadata": {},
   "outputs": [],
   "source": [
    "RSI_OVERBOUGHT = 70\n",
    "RSI_OVERSOLD = 30\n",
    "class TradingBot:\n",
    "    # Constructor for TradingBot\n",
    "    def __init__(self, parameters, data):\n",
    "        # P format = [window_slow, window_fast, window_sign]\n",
    "        self.P = parameters\n",
    "        # self.window_fast = parameters[0]\n",
    "        # self.window_slow = parameters[1]\n",
    "        # self.window_sign = parameters[2]\n",
    "        self.data = data\n",
    "        # Initialize any other necessary attributes\n",
    "    \n",
    "    # Buy trigger function\n",
    "    def buy_trigger(self, t, P):\n",
    "        return self.buy(t, P) and not self.buy(t-1, P) and not (self.sell(t, P) and not self.sell(t-1, P))\n",
    "\n",
    "    # Sell trigger function\n",
    "    def sell_trigger(self, t, P):\n",
    "        return self.sell(t, P) and not self.sell(t-1, P) and not (self.buy(t, P) and not self.buy(t-1, P))\n",
    "\n",
    "    # Buy function\n",
    "    def buy(self, t, P):\n",
    "        dnf = 1\n",
    "        for i in range(len(P)):\n",
    "            lit = 1\n",
    "            if (P[i][0] == \"macd\"):\n",
    "                a = self.macd_indicator(t,P[i])\n",
    "                lit = a[0] > a[1] and a[2] < a[3]\n",
    "            elif (P[i][0] == \"bb\"):\n",
    "                pass\n",
    "            elif (P[i][0] == \"rsi\"):\n",
    "                a = self.rsi_indicator(t, P[i])\n",
    "                lit = a.item() < RSI_OVERSOLD\n",
    "            elif (P[i][0] == \"obv\"):\n",
    "                pass\n",
    "            \n",
    "            if (i == 0): # for the first literal\n",
    "                dnf = lit\n",
    "            elif(P[i][1]==1): # it is an OR conditional\n",
    "                dnf = dnf or lit \n",
    "            else: # it is an AND conditional\n",
    "                dnf = dnf and lit\n",
    "        return dnf\n",
    "    \n",
    "    # Sell function\n",
    "    def sell(self, t, P):\n",
    "        dnf = 1\n",
    "        for i in range(len(P)):\n",
    "            if (P[i][0] == \"macd\"):\n",
    "                a = self.macd_indicator(t,P[i])\n",
    "                lit = a[0] < a[1] and a[2] > a[3]\n",
    "            elif (P[i][0] == \"bb\"):\n",
    "                a = self.bb_indicator(t, P[i])\n",
    "                pass\n",
    "            elif (P[i][0] == \"rsi\"):\n",
    "                a = self.rsi_indicator(t, P[i])\n",
    "                lit = a.item() > RSI_OVERBOUGHT\n",
    "            elif (P[i][0] == \"obv\"):\n",
    "                pass\n",
    "\n",
    "            if (i == 0): # for the first literal\n",
    "                dnf = lit\n",
    "            elif(P[i][1]): # it is an OR conditional\n",
    "                dnf = dnf or lit \n",
    "            else:\n",
    "                dnf = dnf and lit\n",
    "        return dnf\n",
    "\n",
    "    def macd_indicator(self, t, P):\n",
    "        \n",
    "        macd_line      = self.data[\"macd\"].loc[t]\n",
    "        signal_line    = self.data[\"macd_sig\"].loc[t]\n",
    "\n",
    "        if t-1 > 0:\n",
    "            prev_macd   = self.data[\"macd\"].loc[t-1]\n",
    "            prev_signal = self.data[\"macd_sig\"].loc[t-1]\n",
    "        else:\n",
    "            prev_macd   = self.data[\"macd\"].loc[0] \n",
    "            prev_signal = self.data[\"macd_sig\"].loc[0]\n",
    "        \n",
    "        return [macd_line, signal_line, prev_macd, prev_signal]\n",
    "\n",
    "\n",
    "    def bb_indicator(self,t,P):\n",
    "        # Define Bollinger Bands parameters\n",
    "        window = int(P[2])\n",
    "        window_dev = int(P[3])\n",
    "\n",
    "        prices = self.data.loc[:t, 'close']\n",
    "        bb_ind = ta.volatility.BollingerBands(close=prices,\n",
    "                                              window=window,\n",
    "                                              window_dev=window_dev)\n",
    "\n",
    "\n",
    "    def rsi_indicator(self,t,P):\n",
    "\n",
    "        # Get close prices for RSI\n",
    "        if t-1 > 0:\n",
    "            rsi_line  = self.data[\"rsi\"].loc[t]\n",
    "        else:\n",
    "            rsi_line  = self.data[\"rsi\"].loc[0]\n",
    "        return rsi_line \n",
    "\n",
    "    def sma_indicator(self,t,P):\n",
    "        pass\n",
    "\n",
    "    # if need make for o,h,l,c,v data\n",
    "    def candle_value(self,t):\n",
    "        pass\n",
    "\n",
    "    # Run the trading bot\n",
    "    def run(self):\n",
    "        # Initialise variables\n",
    "        AUD = 100.0     # starting AUD holdings\n",
    "        BTC = 0.0       # starting BTC holdings\n",
    "        buy_triggered = False\n",
    "        prices = self.data['close']\n",
    "        for p in self.P:\n",
    "            type = p[0]\n",
    "            if type ==\"macd\":\n",
    "                macd_indicator = ta.trend.MACD(close=prices, window_slow=p[2], window_fast=p[3], window_sign=p[4])\n",
    "                self.data[\"macd\"] = macd_indicator.macd()\n",
    "                self.data[\"macd_sig\"] = macd_indicator.macd_signal()\n",
    "            elif type == \"rsi\":\n",
    "                rsi_indicator = ta.momentum.RSIIndicator(close = prices, window = p[2])\n",
    "                self.data[\"rsi\"] = rsi_indicator.rsi()\n",
    "\n",
    "        # Loop through each day in the data\n",
    "        for t in range(len(self.data)):\n",
    "            # Check if a buy trigger occurs and there is no concurrent sell trigger\n",
    "            if self.buy_trigger(t, self.P) and not buy_triggered:\n",
    "                buy_triggered = True\n",
    "                BTC = AUD * 0.98 / self.data['close'][t]\n",
    "                AUD = 0.0\n",
    "                #print(\"btc {}\".format(BTC))\n",
    "            # Check if a sell trigger occurs and there is no concurrent buy trigger\n",
    "            elif self.sell_trigger(t, self.P) and buy_triggered:\n",
    "                buy_triggered = False\n",
    "                AUD = BTC * 0.98 * self.data['close'][t]\n",
    "                BTC = 0.0\n",
    "                #print(\"aud{}\".format(AUD))\n",
    "            # Sell remaining BTC at the end of the test period\n",
    "            elif t == len(self.data)-1 and BTC > 0:\n",
    "                AUD = BTC * 0.98 * self.data['close'][t]\n",
    "                BTC = 0.0\n",
    "        return AUD"
   ]
  },
  {
   "cell_type": "code",
   "execution_count": 3,
   "id": "ba6a3624-c0ce-4dd2-b50e-2f61829b96b0",
   "metadata": {},
   "outputs": [],
   "source": [
    "#from bot import TradingBot\n",
    "\n",
    "class GeneticAlgorithm:\n",
    "    \n",
    "    # Constructor for GeneticAlgorithm\n",
    "    def __init__(self, population_size, num_generations, mutation_rate, crossover_rate, data):\n",
    "        self.population_size = population_size\n",
    "        self.mutation_rate = mutation_rate\n",
    "        self.crossover_rate = crossover_rate\n",
    "        self.num_generations = num_generations\n",
    "        self.data = data\n",
    "        \n",
    "        # Define the range of parameter values for the MACD indicator\n",
    "        self.PARAMETER_RANGES = {\n",
    "            'window_slow': range(26, 50),\n",
    "            'window_fast': range(12, 25),\n",
    "            'window_sign': range(9, 15)\n",
    "        }\n",
    "        \n",
    "    def run(self):\n",
    "        # Generate an initial population of bots with different parameters\n",
    "        population = []\n",
    "        for n in range(self.population_size):\n",
    "            # Gets random parameters within the ranges specified\n",
    "            w_slow = random.choice(self.PARAMETER_RANGES['window_slow'])\n",
    "            w_fast = random.choice(self.PARAMETER_RANGES['window_fast'])\n",
    "            w_sign = random.choice(self.PARAMETER_RANGES['window_sign'])\n",
    "            P = [w_slow, w_fast, w_sign]\n",
    "            bot = TradingBot(P, self.data)  # Returns finalAUD\n",
    "            botInstance = [bot.run(), P]\n",
    "            population.append(botInstance) \n",
    "\n",
    "        # Run the genetic algorithm for number of generations\n",
    "        for g in range(self.num_generations):\n",
    "            # Evaluate fitness of the initial population\n",
    "            fitness_scores = self.evaluate_fitness(population)\n",
    "            \n",
    "            # Select the top performing bots\n",
    "            parents = self.select_parents(population, fitness_scores)\n",
    "            \n",
    "            # Create offspring through crossover and mutation\n",
    "            offspring = self.reproduce(parents)\n",
    "            \n",
    "            # Replace the old population with the new one\n",
    "            population = offspring\n",
    "            \n",
    "        # Evaluate the fitness of the final population\n",
    "        fitness_scores = self.evaluate_fitness(population)\n",
    "        \n",
    "        # Return the best performing bot in the final population\n",
    "        best_bot_index = fitness_scores.index(max(fitness_scores))\n",
    "        best_bot = population[best_bot_index]\n",
    "        return best_bot\n",
    "    \n",
    "    # Calculate fitness function\n",
    "    def calculate_fitness(self, bot_final_AUD):\n",
    "        profit = bot_final_AUD - 100.0\n",
    "        return profit\n",
    "        \n",
    "    # Evaluate fitness of each bot in the population\n",
    "    def evaluate_fitness(self, population):\n",
    "        return [self.calculate_fitness(bot[0]) for bot in population]\n",
    "       \n",
    "    # Select parents of the next generation\n",
    "    def select_parents(self, population, fitness_scores):\n",
    "        elite_indices = sorted(range(len(fitness_scores)), key=lambda i: fitness_scores[i], reverse=True)[:self.population_size // 2]\n",
    "        elite_bots = [population[i] for i in elite_indices]\n",
    "        return elite_bots\n",
    "    \n",
    "    # Create offspring by applying through genetic operators crossover and mutation\n",
    "    def reproduce(self, parents):\n",
    "        offspring = parents.copy()\n",
    "        while len(offspring) < self.population_size:\n",
    "            parent1 = random.choice(parents)\n",
    "            parent2 = random.choice(parents)\n",
    "            child1, child2 = self.crossover(parent1, parent2)\n",
    "            offspring.extend([self.mutation(child1), self.mutation(child2)])\n",
    "        return offspring\n",
    "    \n",
    "    # Crossover function\n",
    "    def crossover(self, parent1, parent2):\n",
    "        child1 = parent1.copy()\n",
    "        child2 = parent2.copy()\n",
    "        if random.random() < self.crossover_rate:\n",
    "            crossover_point = random.randint(1, len(parent1[1]) - 1)\n",
    "            child1[1][:crossover_point] = parent2[1][:crossover_point]\n",
    "            child2[1][:crossover_point] = parent1[1][:crossover_point]\n",
    "        return (child1, child2)\n",
    "    \n",
    "    # Mutation function\n",
    "    def mutation(self, bot):\n",
    "        mutated_bot = bot.copy()\n",
    "        for i in range(len(mutated_bot[1])):\n",
    "            if random.random() < self.mutation_rate:\n",
    "                if i == 0:\n",
    "                    mutated_bot[1][i] = random.choice(self.PARAMETER_RANGES['window_slow'])\n",
    "                elif i == 1:\n",
    "                    mutated_bot[1][i] = random.choice(self.PARAMETER_RANGES['window_fast'])\n",
    "                elif i == 2:\n",
    "                    mutated_bot[1][i] = random.choice(self.PARAMETER_RANGES['window_sign'])\n",
    "        return mutated_bot\n"
   ]
  },
  {
   "cell_type": "code",
   "execution_count": 4,
   "id": "42ad154e-2c2f-41e0-97b3-df002bf516b7",
   "metadata": {},
   "outputs": [],
   "source": [
    "#from ga import GeneticAlgorithm\n",
    "\n",
    "# Retrieve OHLCV data\n",
    "def getOHLCVdata():\n",
    "    # Initialize the Kraken exchange\n",
    "    kraken = ccxt.kraken()\n",
    "    # Retrieve the historical data for BTC/AUD from the Kraken exchange\n",
    "    ohlcv = kraken.fetch_ohlcv('BTC/AUD', '1d')\n",
    "    # Convert the data to a pandas DataFrame\n",
    "    data = pd.DataFrame(ohlcv, columns=['timestamp', 'open', 'high', 'low', 'close', 'volume'])\n",
    "    # Convert the timestamp to a datetime object\n",
    "    data['timestamp'] = pd.to_datetime(data['timestamp'], unit='ms')\n",
    "    return data\n"
   ]
  },
  {
   "cell_type": "code",
   "execution_count": 5,
   "id": "596d8e23-10b2-4f18-a253-33c6d58393b3",
   "metadata": {},
   "outputs": [],
   "source": [
    "POPULATION_SIZE = 10\n",
    "NUM_GENERATIONS = 50\n",
    "MUTATION_RATE   = 0.1\n",
    "CROSSOVER_RATE  = 0.8\n",
    "DATA = getOHLCVdata()"
   ]
  },
  {
   "cell_type": "code",
   "execution_count": 6,
   "id": "68c449cc-31b2-44c5-96ea-cff697ed0696",
   "metadata": {},
   "outputs": [],
   "source": [
    "DATA;"
   ]
  },
  {
   "cell_type": "code",
   "execution_count": 7,
   "id": "7e2df7a3-9ae8-4553-abb8-9e6146930944",
   "metadata": {},
   "outputs": [],
   "source": [
    "ga = GeneticAlgorithm(POPULATION_SIZE, NUM_GENERATIONS, MUTATION_RATE, CROSSOVER_RATE, DATA)"
   ]
  },
  {
   "cell_type": "code",
   "execution_count": 8,
   "id": "a9b7fa7f-4616-4f4e-a841-7cb800950867",
   "metadata": {
    "collapsed": true,
    "jupyter": {
     "outputs_hidden": true
    },
    "tags": []
   },
   "outputs": [
    {
     "name": "stdout",
     "output_type": "stream",
     "text": [
      "26\n"
     ]
    },
    {
     "ename": "TypeError",
     "evalue": "'int' object is not subscriptable",
     "output_type": "error",
     "traceback": [
      "\u001b[0;31m---------------------------------------------------------------------------\u001b[0m",
      "\u001b[0;31mTypeError\u001b[0m                                 Traceback (most recent call last)",
      "Cell \u001b[0;32mIn[8], line 1\u001b[0m\n\u001b[0;32m----> 1\u001b[0m \u001b[38;5;28mprint\u001b[39m(\u001b[43mga\u001b[49m\u001b[38;5;241;43m.\u001b[39;49m\u001b[43mrun\u001b[49m\u001b[43m(\u001b[49m\u001b[43m)\u001b[49m)\n",
      "Cell \u001b[0;32mIn[3], line 30\u001b[0m, in \u001b[0;36mGeneticAlgorithm.run\u001b[0;34m(self)\u001b[0m\n\u001b[1;32m     28\u001b[0m     P \u001b[38;5;241m=\u001b[39m [w_slow, w_fast, w_sign]\n\u001b[1;32m     29\u001b[0m     bot \u001b[38;5;241m=\u001b[39m TradingBot(P, \u001b[38;5;28mself\u001b[39m\u001b[38;5;241m.\u001b[39mdata)  \u001b[38;5;66;03m# Returns finalAUD\u001b[39;00m\n\u001b[0;32m---> 30\u001b[0m     botInstance \u001b[38;5;241m=\u001b[39m [\u001b[43mbot\u001b[49m\u001b[38;5;241;43m.\u001b[39;49m\u001b[43mrun\u001b[49m\u001b[43m(\u001b[49m\u001b[43m)\u001b[49m, P]\n\u001b[1;32m     31\u001b[0m     population\u001b[38;5;241m.\u001b[39mappend(botInstance) \n\u001b[1;32m     33\u001b[0m \u001b[38;5;66;03m# Run the genetic algorithm for number of generations\u001b[39;00m\n",
      "Cell \u001b[0;32mIn[2], line 121\u001b[0m, in \u001b[0;36mTradingBot.run\u001b[0;34m(self)\u001b[0m\n\u001b[1;32m    119\u001b[0m \u001b[38;5;28;01mfor\u001b[39;00m p \u001b[38;5;129;01min\u001b[39;00m \u001b[38;5;28mself\u001b[39m\u001b[38;5;241m.\u001b[39mP:\n\u001b[1;32m    120\u001b[0m     \u001b[38;5;28mprint\u001b[39m(p)\n\u001b[0;32m--> 121\u001b[0m     \u001b[38;5;28mtype\u001b[39m \u001b[38;5;241m=\u001b[39m \u001b[43mp\u001b[49m\u001b[43m[\u001b[49m\u001b[38;5;241;43m0\u001b[39;49m\u001b[43m]\u001b[49m\n\u001b[1;32m    122\u001b[0m     \u001b[38;5;28;01mif\u001b[39;00m \u001b[38;5;28mtype\u001b[39m \u001b[38;5;241m==\u001b[39m\u001b[38;5;124m\"\u001b[39m\u001b[38;5;124mmacd\u001b[39m\u001b[38;5;124m\"\u001b[39m:\n\u001b[1;32m    123\u001b[0m         macd_indicator \u001b[38;5;241m=\u001b[39m ta\u001b[38;5;241m.\u001b[39mtrend\u001b[38;5;241m.\u001b[39mMACD(close\u001b[38;5;241m=\u001b[39mprices, window_slow\u001b[38;5;241m=\u001b[39mp[\u001b[38;5;241m2\u001b[39m], window_fast\u001b[38;5;241m=\u001b[39mp[\u001b[38;5;241m3\u001b[39m], window_sign\u001b[38;5;241m=\u001b[39mp[\u001b[38;5;241m4\u001b[39m])\n",
      "\u001b[0;31mTypeError\u001b[0m: 'int' object is not subscriptable"
     ]
    }
   ],
   "source": [
    "print(ga.run())"
   ]
  },
  {
   "cell_type": "code",
   "execution_count": 68,
   "id": "c206c206-93c5-4c1e-a045-25a70dfbfbc9",
   "metadata": {},
   "outputs": [],
   "source": [
    "bot = TradingBot([[\"macd\", 0, 30, 20, 9]], DATA)"
   ]
  },
  {
   "cell_type": "code",
   "execution_count": 69,
   "id": "b7218aaf-6681-43ca-9c27-119b5656bbf0",
   "metadata": {},
   "outputs": [
    {
     "data": {
      "text/plain": [
       "52.2728889663617"
      ]
     },
     "execution_count": 69,
     "metadata": {},
     "output_type": "execute_result"
    }
   ],
   "source": [
    "bot.run()"
   ]
  },
  {
   "cell_type": "code",
   "execution_count": null,
   "id": "71d0348f-789a-4926-a8ac-62ecfbfa11e9",
   "metadata": {},
   "outputs": [],
   "source": []
  }
 ],
 "metadata": {
  "kernelspec": {
   "display_name": "Python 3 (ipykernel)",
   "language": "python",
   "name": "python3"
  },
  "language_info": {
   "codemirror_mode": {
    "name": "ipython",
    "version": 3
   },
   "file_extension": ".py",
   "mimetype": "text/x-python",
   "name": "python",
   "nbconvert_exporter": "python",
   "pygments_lexer": "ipython3",
   "version": "3.8.16"
  }
 },
 "nbformat": 4,
 "nbformat_minor": 5
}
